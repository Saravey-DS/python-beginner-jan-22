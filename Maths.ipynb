{
 "cells": [
  {
   "cell_type": "markdown",
   "id": "3e8a799a",
   "metadata": {},
   "source": [
    "# Maths"
   ]
  },
  {
   "cell_type": "markdown",
   "id": "d493082d",
   "metadata": {},
   "source": [
    "Formula sheet - https://github.com/tarunluthra123/docs/blob/master/Useful%20maths%20formulas.md"
   ]
  },
  {
   "cell_type": "markdown",
   "id": "be28b1fa",
   "metadata": {},
   "source": [
    "## Logarithm\n",
    "The exponent or power to which a base must be raised to yield a given number. Expressed mathematically, x is the logarithm of n to the base b if bx = n, in which case one writes x = logb n. For example, 23 = 8; therefore, 3 is the logarithm of 8 to base 2, or 3 = log<sub>2</sub> 8.\n",
    "\n",
    "<img src=\"https://media.giphy.com/media/iRBz7kiE3HsSA/giphy.gif\" width=\"250\" />\n",
    "\n",
    "\n",
    "Python functions for computing log :\n",
    "```\n",
    "- math.log(x)    -> returns log(x) with base=e\n",
    "- math.log(x,a)  -> returns log(x) with base=a\n",
    "- math.log2(x)   -> returns log(x) with base=2\n",
    "- math.log10(x)  -> returns log(x) with base=10\n",
    "```"
   ]
  },
  {
   "cell_type": "code",
   "execution_count": 1,
   "id": "80e3f445",
   "metadata": {},
   "outputs": [],
   "source": [
    "import math"
   ]
  },
  {
   "cell_type": "code",
   "execution_count": 3,
   "id": "e586cdb8",
   "metadata": {},
   "outputs": [
    {
     "data": {
      "text/plain": [
       "2.302585092994046"
      ]
     },
     "execution_count": 3,
     "metadata": {},
     "output_type": "execute_result"
    }
   ],
   "source": [
    "math.log(10)"
   ]
  },
  {
   "cell_type": "code",
   "execution_count": 4,
   "id": "095bfba8",
   "metadata": {},
   "outputs": [
    {
     "data": {
      "text/plain": [
       "3.0"
      ]
     },
     "execution_count": 4,
     "metadata": {},
     "output_type": "execute_result"
    }
   ],
   "source": [
    "math.log(343, 7)"
   ]
  },
  {
   "cell_type": "code",
   "execution_count": 6,
   "id": "3febaf37",
   "metadata": {},
   "outputs": [
    {
     "data": {
      "text/plain": [
       "4.0"
      ]
     },
     "execution_count": 6,
     "metadata": {},
     "output_type": "execute_result"
    }
   ],
   "source": [
    "math.log2(16)"
   ]
  },
  {
   "cell_type": "code",
   "execution_count": 7,
   "id": "ac905085",
   "metadata": {},
   "outputs": [
    {
     "name": "stdout",
     "output_type": "stream",
     "text": [
      "100\n",
      "50.0\n",
      "25.0\n",
      "12.5\n",
      "6.25\n",
      "3.125\n",
      "1.5625\n"
     ]
    }
   ],
   "source": [
    "n = 100\n",
    "\n",
    "while n > 1:\n",
    "    print(n)\n",
    "    n = n / 2"
   ]
  },
  {
   "cell_type": "markdown",
   "id": "eb297830",
   "metadata": {},
   "source": [
    "## How many iterations would the above code snippet take ? \n",
    "\n",
    "Approx log<sub>2</sub>n"
   ]
  },
  {
   "cell_type": "code",
   "execution_count": null,
   "id": "b02d9b8b",
   "metadata": {},
   "outputs": [],
   "source": []
  },
  {
   "cell_type": "code",
   "execution_count": null,
   "id": "01a35ae0",
   "metadata": {},
   "outputs": [],
   "source": []
  },
  {
   "cell_type": "code",
   "execution_count": null,
   "id": "2ab100cd",
   "metadata": {},
   "outputs": [],
   "source": []
  },
  {
   "cell_type": "code",
   "execution_count": null,
   "id": "e72a40ea",
   "metadata": {},
   "outputs": [],
   "source": []
  },
  {
   "cell_type": "markdown",
   "id": "4a00990c",
   "metadata": {},
   "source": [
    "## GCD"
   ]
  },
  {
   "cell_type": "markdown",
   "id": "bdb3ba3b",
   "metadata": {},
   "source": [
    "math module method -\n",
    "`math.gcd(*integers)`"
   ]
  },
  {
   "cell_type": "code",
   "execution_count": 8,
   "id": "86ed5725",
   "metadata": {},
   "outputs": [
    {
     "data": {
      "text/plain": [
       "1"
      ]
     },
     "execution_count": 8,
     "metadata": {},
     "output_type": "execute_result"
    }
   ],
   "source": [
    "math.gcd(2,3)"
   ]
  },
  {
   "cell_type": "code",
   "execution_count": 17,
   "id": "3ac48470",
   "metadata": {},
   "outputs": [
    {
     "data": {
      "text/plain": [
       "5"
      ]
     },
     "execution_count": 17,
     "metadata": {},
     "output_type": "execute_result"
    }
   ],
   "source": [
    "math.gcd(10,15,40)"
   ]
  },
  {
   "cell_type": "code",
   "execution_count": 16,
   "id": "79b33c1f",
   "metadata": {},
   "outputs": [
    {
     "name": "stdout",
     "output_type": "stream",
     "text": [
      "10\n",
      "10\n",
      "GCD is 10\n"
     ]
    }
   ],
   "source": [
    "a = int(input())\n",
    "b = int(input())\n",
    "\n",
    "def gcd(a,b):\n",
    "    while a != 0:\n",
    "        a, b = b % a, a\n",
    "    return b\n",
    "    \n",
    "print(\"GCD is\", gcd(a,b))"
   ]
  },
  {
   "cell_type": "code",
   "execution_count": null,
   "id": "c264b732",
   "metadata": {},
   "outputs": [],
   "source": []
  },
  {
   "cell_type": "markdown",
   "id": "87c7f949",
   "metadata": {},
   "source": [
    "## LCM"
   ]
  },
  {
   "cell_type": "markdown",
   "id": "5bd7aadf",
   "metadata": {},
   "source": [
    "math module method -\n",
    "`math.lcm(*integers)`"
   ]
  },
  {
   "cell_type": "code",
   "execution_count": 18,
   "id": "4aa8f463",
   "metadata": {},
   "outputs": [
    {
     "data": {
      "text/plain": [
       "120"
      ]
     },
     "execution_count": 18,
     "metadata": {},
     "output_type": "execute_result"
    }
   ],
   "source": [
    "math.lcm(15,10,40)"
   ]
  },
  {
   "cell_type": "code",
   "execution_count": null,
   "id": "dec2d1de",
   "metadata": {},
   "outputs": [],
   "source": []
  },
  {
   "cell_type": "code",
   "execution_count": null,
   "id": "21ba2838",
   "metadata": {},
   "outputs": [],
   "source": []
  },
  {
   "cell_type": "code",
   "execution_count": null,
   "id": "787c0350",
   "metadata": {},
   "outputs": [],
   "source": []
  },
  {
   "cell_type": "code",
   "execution_count": null,
   "id": "d97859cb",
   "metadata": {},
   "outputs": [],
   "source": []
  },
  {
   "cell_type": "markdown",
   "id": "a33d07a5",
   "metadata": {},
   "source": [
    "## Prime Number - sqrt(N) method"
   ]
  },
  {
   "cell_type": "code",
   "execution_count": 31,
   "id": "ca27ae5d",
   "metadata": {},
   "outputs": [],
   "source": [
    "def isPrime(n):\n",
    "    \"\"\"\n",
    "    This function returns True or False based on primality check of n.\n",
    "    Time complexity - O(sqrt(n))\n",
    "    \"\"\"\n",
    "    \n",
    "    if n == 1:\n",
    "        return False\n",
    "    \n",
    "#     Search for factors in the range [2, sqrt(n)]\n",
    "#     sq = n ** (1/2)\n",
    "    sq = int(math.sqrt(n))\n",
    "\n",
    "    for i in range(2, sq + 1):\n",
    "        if n % i == 0:\n",
    "            return False\n",
    "        \n",
    "    return True"
   ]
  },
  {
   "cell_type": "code",
   "execution_count": 22,
   "id": "5ff6df31",
   "metadata": {},
   "outputs": [
    {
     "data": {
      "text/plain": [
       "True"
      ]
     },
     "execution_count": 22,
     "metadata": {},
     "output_type": "execute_result"
    }
   ],
   "source": [
    "isPrime(17)"
   ]
  },
  {
   "cell_type": "code",
   "execution_count": 23,
   "id": "609fe3f6",
   "metadata": {},
   "outputs": [
    {
     "data": {
      "text/plain": [
       "False"
      ]
     },
     "execution_count": 23,
     "metadata": {},
     "output_type": "execute_result"
    }
   ],
   "source": [
    "isPrime(20)"
   ]
  },
  {
   "cell_type": "code",
   "execution_count": 25,
   "id": "a5b6326a",
   "metadata": {},
   "outputs": [
    {
     "data": {
      "text/plain": [
       "True"
      ]
     },
     "execution_count": 25,
     "metadata": {},
     "output_type": "execute_result"
    }
   ],
   "source": [
    "isPrime(101)"
   ]
  },
  {
   "cell_type": "code",
   "execution_count": 26,
   "id": "a2922ed8",
   "metadata": {},
   "outputs": [
    {
     "data": {
      "text/plain": [
       "True"
      ]
     },
     "execution_count": 26,
     "metadata": {},
     "output_type": "execute_result"
    }
   ],
   "source": [
    "isPrime(2)"
   ]
  },
  {
   "cell_type": "code",
   "execution_count": 32,
   "id": "37b7200b",
   "metadata": {},
   "outputs": [
    {
     "data": {
      "text/plain": [
       "False"
      ]
     },
     "execution_count": 32,
     "metadata": {},
     "output_type": "execute_result"
    }
   ],
   "source": [
    "isPrime(1)"
   ]
  },
  {
   "cell_type": "code",
   "execution_count": 29,
   "id": "0d41bd7e",
   "metadata": {},
   "outputs": [
    {
     "data": {
      "text/plain": [
       "2"
      ]
     },
     "execution_count": 29,
     "metadata": {},
     "output_type": "execute_result"
    }
   ],
   "source": [
    "10%4"
   ]
  },
  {
   "cell_type": "code",
   "execution_count": null,
   "id": "e77a48d5",
   "metadata": {},
   "outputs": [],
   "source": []
  },
  {
   "cell_type": "markdown",
   "id": "0ab137ee",
   "metadata": {},
   "source": []
  },
  {
   "cell_type": "markdown",
   "id": "69f428ab",
   "metadata": {},
   "source": [
    "## AP - Arithmatic Progression"
   ]
  },
  {
   "cell_type": "code",
   "execution_count": null,
   "id": "ab8b8a8e",
   "metadata": {},
   "outputs": [],
   "source": []
  },
  {
   "cell_type": "code",
   "execution_count": null,
   "id": "0a1189c1",
   "metadata": {},
   "outputs": [],
   "source": []
  },
  {
   "cell_type": "code",
   "execution_count": null,
   "id": "d709a662",
   "metadata": {},
   "outputs": [],
   "source": []
  },
  {
   "cell_type": "code",
   "execution_count": null,
   "id": "c4d879c8",
   "metadata": {},
   "outputs": [],
   "source": []
  },
  {
   "cell_type": "code",
   "execution_count": null,
   "id": "926de025",
   "metadata": {},
   "outputs": [],
   "source": []
  },
  {
   "cell_type": "markdown",
   "id": "c5ef289a",
   "metadata": {},
   "source": [
    "## GP - Geometric Progresssion"
   ]
  },
  {
   "cell_type": "code",
   "execution_count": null,
   "id": "ac45b43e",
   "metadata": {},
   "outputs": [],
   "source": []
  },
  {
   "cell_type": "code",
   "execution_count": null,
   "id": "63f3e881",
   "metadata": {},
   "outputs": [],
   "source": []
  },
  {
   "cell_type": "code",
   "execution_count": null,
   "id": "e7422dd1",
   "metadata": {},
   "outputs": [],
   "source": []
  },
  {
   "cell_type": "code",
   "execution_count": null,
   "id": "cf9590be",
   "metadata": {},
   "outputs": [],
   "source": []
  },
  {
   "cell_type": "markdown",
   "id": "0e76a283",
   "metadata": {},
   "source": [
    "## Combinations"
   ]
  },
  {
   "cell_type": "markdown",
   "id": "3177ecd3",
   "metadata": {},
   "source": [
    "math module method - \\\n",
    "`math.comb(n, r)`"
   ]
  },
  {
   "cell_type": "code",
   "execution_count": null,
   "id": "25c41c3b",
   "metadata": {},
   "outputs": [],
   "source": []
  },
  {
   "cell_type": "code",
   "execution_count": null,
   "id": "021d5938",
   "metadata": {},
   "outputs": [],
   "source": []
  },
  {
   "cell_type": "code",
   "execution_count": null,
   "id": "27673210",
   "metadata": {},
   "outputs": [],
   "source": []
  },
  {
   "cell_type": "code",
   "execution_count": null,
   "id": "297675c1",
   "metadata": {},
   "outputs": [],
   "source": []
  },
  {
   "cell_type": "markdown",
   "id": "b6914649",
   "metadata": {},
   "source": [
    "## Permutations\n",
    "\n",
    "math module method - \\\n",
    "`math.perm(n, r)`"
   ]
  },
  {
   "cell_type": "code",
   "execution_count": null,
   "id": "9f22aac0",
   "metadata": {},
   "outputs": [],
   "source": []
  },
  {
   "cell_type": "code",
   "execution_count": null,
   "id": "adc6eef3",
   "metadata": {},
   "outputs": [],
   "source": []
  },
  {
   "cell_type": "code",
   "execution_count": null,
   "id": "4735fde6",
   "metadata": {},
   "outputs": [],
   "source": []
  },
  {
   "cell_type": "code",
   "execution_count": null,
   "id": "a7f058fa",
   "metadata": {},
   "outputs": [],
   "source": []
  },
  {
   "cell_type": "code",
   "execution_count": null,
   "id": "4aec603f",
   "metadata": {},
   "outputs": [],
   "source": []
  },
  {
   "cell_type": "markdown",
   "id": "d9075bb8",
   "metadata": {},
   "source": [
    "## Decimal to Binary"
   ]
  },
  {
   "cell_type": "markdown",
   "id": "b6a515d4",
   "metadata": {},
   "source": [
    "Using python inbuilt functionality:\n",
    "```py\n",
    "def decimalToBinary(n):\n",
    "    return bin(n).replace(\"0b\", \"\")\n",
    "```\n",
    "\n",
    "Details - https://www.scaler.com/topics/convert-decimal-to-binary-in-python/"
   ]
  },
  {
   "cell_type": "code",
   "execution_count": 15,
   "id": "2e12c2c9",
   "metadata": {},
   "outputs": [],
   "source": [
    "def decimalToBinary(n):\n",
    "    return bin(n).replace(\"0b\", \"\")"
   ]
  },
  {
   "cell_type": "code",
   "execution_count": 17,
   "id": "3a373544",
   "metadata": {},
   "outputs": [
    {
     "data": {
      "text/plain": [
       "'0b10100'"
      ]
     },
     "execution_count": 17,
     "metadata": {},
     "output_type": "execute_result"
    }
   ],
   "source": [
    "bin(20)"
   ]
  },
  {
   "cell_type": "code",
   "execution_count": null,
   "id": "78814885",
   "metadata": {},
   "outputs": [],
   "source": []
  },
  {
   "cell_type": "code",
   "execution_count": null,
   "id": "d76d527c",
   "metadata": {},
   "outputs": [],
   "source": []
  },
  {
   "cell_type": "code",
   "execution_count": null,
   "id": "82a1620a",
   "metadata": {},
   "outputs": [],
   "source": []
  },
  {
   "cell_type": "code",
   "execution_count": null,
   "id": "54c9aa7d",
   "metadata": {},
   "outputs": [],
   "source": []
  },
  {
   "cell_type": "markdown",
   "id": "83ac6fb3",
   "metadata": {},
   "source": []
  },
  {
   "cell_type": "markdown",
   "id": "2cb99eaf",
   "metadata": {},
   "source": [
    "## Binary to Decimal"
   ]
  },
  {
   "cell_type": "markdown",
   "id": "14b32dbf",
   "metadata": {},
   "source": [
    "Using python inbuilt functionality:\n",
    "```py\n",
    "def binaryToDecimal(x):\n",
    "    return int(x, 2)\n",
    "```\n",
    "\n",
    "Details - https://www.scaler.com/topics/convert-decimal-to-binary-in-python/"
   ]
  },
  {
   "cell_type": "code",
   "execution_count": null,
   "id": "7d6442e6",
   "metadata": {},
   "outputs": [],
   "source": []
  },
  {
   "cell_type": "code",
   "execution_count": null,
   "id": "1badbd20",
   "metadata": {},
   "outputs": [],
   "source": []
  },
  {
   "cell_type": "code",
   "execution_count": null,
   "id": "e891be35",
   "metadata": {},
   "outputs": [],
   "source": []
  },
  {
   "cell_type": "code",
   "execution_count": null,
   "id": "2a92e522",
   "metadata": {},
   "outputs": [],
   "source": []
  },
  {
   "cell_type": "code",
   "execution_count": null,
   "id": "988664c0",
   "metadata": {},
   "outputs": [],
   "source": []
  },
  {
   "cell_type": "code",
   "execution_count": null,
   "id": "8fe13107",
   "metadata": {},
   "outputs": [],
   "source": []
  },
  {
   "cell_type": "code",
   "execution_count": null,
   "id": "383b16b8",
   "metadata": {},
   "outputs": [],
   "source": []
  },
  {
   "cell_type": "markdown",
   "id": "358a773e",
   "metadata": {},
   "source": [
    "## Problem - Trailing zeros in factorial\n",
    "\n",
    "Problem Link - [Trailing Zeros In Factorial](https://www.interviewbit.com/problems/trailing-zeros-in-factorial/)"
   ]
  },
  {
   "cell_type": "code",
   "execution_count": null,
   "id": "e741ecda",
   "metadata": {},
   "outputs": [],
   "source": []
  }
 ],
 "metadata": {
  "kernelspec": {
   "display_name": "Python 3 (ipykernel)",
   "language": "python",
   "name": "python3"
  },
  "language_info": {
   "codemirror_mode": {
    "name": "ipython",
    "version": 3
   },
   "file_extension": ".py",
   "mimetype": "text/x-python",
   "name": "python",
   "nbconvert_exporter": "python",
   "pygments_lexer": "ipython3",
   "version": "3.9.7"
  }
 },
 "nbformat": 4,
 "nbformat_minor": 5
}
