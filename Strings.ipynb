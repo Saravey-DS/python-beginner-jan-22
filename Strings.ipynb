{
 "cells": [
  {
   "cell_type": "markdown",
   "id": "3f58fe1a",
   "metadata": {},
   "source": [
    "# Function - kwargs\n",
    "keyword arguments"
   ]
  },
  {
   "cell_type": "code",
   "execution_count": 12,
   "id": "008a9bcc",
   "metadata": {},
   "outputs": [],
   "source": [
    "def person(name, age, profession, **kwargs):\n",
    "    print(name, age, profession)\n",
    "    print(kwargs)\n",
    "    print(type(kwargs))"
   ]
  },
  {
   "cell_type": "code",
   "execution_count": 13,
   "id": "76390e7f",
   "metadata": {},
   "outputs": [
    {
     "name": "stdout",
     "output_type": "stream",
     "text": [
      "Peter Parker 20 Photographer\n",
      "{'city': 'New York', 'villains': ['Venom']}\n",
      "<class 'dict'>\n"
     ]
    }
   ],
   "source": [
    "person(\"Peter Parker\", 20, \"Photographer\", city=\"New York\", villains=['Venom'])"
   ]
  },
  {
   "cell_type": "code",
   "execution_count": null,
   "id": "1c58e35a",
   "metadata": {},
   "outputs": [],
   "source": []
  },
  {
   "cell_type": "code",
   "execution_count": null,
   "id": "f1725dfa",
   "metadata": {},
   "outputs": [],
   "source": []
  },
  {
   "cell_type": "code",
   "execution_count": null,
   "id": "23534053",
   "metadata": {},
   "outputs": [],
   "source": []
  },
  {
   "cell_type": "code",
   "execution_count": null,
   "id": "636d2e5f",
   "metadata": {},
   "outputs": [],
   "source": []
  },
  {
   "cell_type": "code",
   "execution_count": null,
   "id": "9b370cfb",
   "metadata": {},
   "outputs": [],
   "source": []
  },
  {
   "cell_type": "code",
   "execution_count": null,
   "id": "159f4476",
   "metadata": {},
   "outputs": [],
   "source": []
  },
  {
   "cell_type": "code",
   "execution_count": null,
   "id": "0bedf760",
   "metadata": {},
   "outputs": [],
   "source": []
  },
  {
   "cell_type": "code",
   "execution_count": 17,
   "id": "baa7406c",
   "metadata": {},
   "outputs": [],
   "source": [
    "def hogwarts(house1, house2, house3, house4, *args, **kwargs):\n",
    "    print(\"Houses are \", house1, house2, house3, house4)\n",
    "    print()\n",
    "    print(\"Args :\", args)\n",
    "    print()\n",
    "    print(\"Kwargs :\", kwargs)"
   ]
  },
  {
   "cell_type": "code",
   "execution_count": 22,
   "id": "a5ae04fc",
   "metadata": {},
   "outputs": [
    {
     "name": "stdout",
     "output_type": "stream",
     "text": [
      "Houses are  Gryffindor Ravenclaw Hufflepuff Slytherin\n",
      "\n",
      "Args : ('Severus Snape', 'Horace Slughorn', 'Remus Lupin')\n",
      "\n",
      "Kwargs : {'headmaster': 'Albus Dumbledore', 'deputy_headmistress': 'Minerva McGonagall'}\n"
     ]
    }
   ],
   "source": [
    "hogwarts(\n",
    "    \"Gryffindor\",\n",
    "    \"Ravenclaw\",\n",
    "    \"Hufflepuff\",\n",
    "    \"Slytherin\",\n",
    "    \"Severus Snape\",\n",
    "    \"Horace Slughorn\",\n",
    "    \"Remus Lupin\",\n",
    "    headmaster=\"Albus Dumbledore\",\n",
    "    deputy_headmistress=\"Minerva McGonagall\"\n",
    ")"
   ]
  },
  {
   "cell_type": "code",
   "execution_count": null,
   "id": "3d80adaa",
   "metadata": {},
   "outputs": [],
   "source": []
  },
  {
   "cell_type": "code",
   "execution_count": null,
   "id": "a265a0fe",
   "metadata": {},
   "outputs": [],
   "source": []
  },
  {
   "cell_type": "markdown",
   "id": "9e5b757d",
   "metadata": {},
   "source": [
    "<img src=\"https://media.giphy.com/media/qLHzYjlA2FW8g/giphy.gif\" width=\"200\" />"
   ]
  },
  {
   "cell_type": "code",
   "execution_count": null,
   "id": "b2a4fa1d",
   "metadata": {},
   "outputs": [],
   "source": []
  },
  {
   "cell_type": "markdown",
   "id": "4e565941",
   "metadata": {},
   "source": [
    "# Strings\n",
    "<img src=\"https://media.giphy.com/media/11I8v5lE8uq79C/giphy.gif\" width=\"200\"/>\n"
   ]
  },
  {
   "cell_type": "markdown",
   "id": "7de1537b",
   "metadata": {},
   "source": [
    "## Initialisation and Indexing"
   ]
  },
  {
   "cell_type": "code",
   "execution_count": 32,
   "id": "063e5595",
   "metadata": {},
   "outputs": [],
   "source": [
    "books = \"\"\"\n",
    "Harry Potter and the Philospher's Stone\n",
    "Harry Potter and the Chamber of Secrets\n",
    "Harry Potter and the Half Blood Prince\n",
    "\"\"\""
   ]
  },
  {
   "cell_type": "code",
   "execution_count": 33,
   "id": "bc010840",
   "metadata": {},
   "outputs": [
    {
     "name": "stdout",
     "output_type": "stream",
     "text": [
      "\n",
      "Harry Potter and the Philospher's Stone\n",
      "Harry Potter and the Chamber of Secrets\n",
      "Harry Potter and the Half Blood Prince\n",
      "\n"
     ]
    }
   ],
   "source": [
    "print(books)"
   ]
  },
  {
   "cell_type": "code",
   "execution_count": 34,
   "id": "e5034e4f",
   "metadata": {},
   "outputs": [],
   "source": [
    "book = 'Harry Potter and the Half Blood Prince'"
   ]
  },
  {
   "cell_type": "code",
   "execution_count": 39,
   "id": "6c8ab4a4",
   "metadata": {},
   "outputs": [
    {
     "data": {
      "text/plain": [
       "' '"
      ]
     },
     "execution_count": 39,
     "metadata": {},
     "output_type": "execute_result"
    }
   ],
   "source": [
    "book[5]"
   ]
  },
  {
   "cell_type": "code",
   "execution_count": 40,
   "id": "c7740cb1",
   "metadata": {},
   "outputs": [],
   "source": [
    "s = \"Hello\"\n",
    "s = \"Hello World\""
   ]
  },
  {
   "cell_type": "code",
   "execution_count": 41,
   "id": "accba37e",
   "metadata": {},
   "outputs": [
    {
     "data": {
      "text/plain": [
       "38"
      ]
     },
     "execution_count": 41,
     "metadata": {},
     "output_type": "execute_result"
    }
   ],
   "source": [
    "len(book)"
   ]
  },
  {
   "cell_type": "code",
   "execution_count": null,
   "id": "adc9e013",
   "metadata": {},
   "outputs": [],
   "source": []
  },
  {
   "cell_type": "code",
   "execution_count": null,
   "id": "55315d16",
   "metadata": {},
   "outputs": [],
   "source": []
  },
  {
   "cell_type": "code",
   "execution_count": null,
   "id": "fc3b5028",
   "metadata": {},
   "outputs": [],
   "source": []
  },
  {
   "cell_type": "code",
   "execution_count": null,
   "id": "bab509ff",
   "metadata": {},
   "outputs": [],
   "source": []
  },
  {
   "cell_type": "code",
   "execution_count": null,
   "id": "a7c05cc2",
   "metadata": {},
   "outputs": [],
   "source": []
  },
  {
   "cell_type": "markdown",
   "id": "9b9ef9f9",
   "metadata": {},
   "source": [
    "## Mutable or Immutable ?\n",
    "Python strings are immutable."
   ]
  },
  {
   "cell_type": "markdown",
   "id": "9a968c55",
   "metadata": {},
   "source": [
    "- Mutable - Can be changed or modified\n",
    "- Immutable - Cannot be changed or modified"
   ]
  },
  {
   "cell_type": "code",
   "execution_count": 49,
   "id": "0eaa01b8",
   "metadata": {},
   "outputs": [
    {
     "name": "stdout",
     "output_type": "stream",
     "text": [
      "4373487536\n",
      "4377345584\n"
     ]
    }
   ],
   "source": [
    "s = \"ab\"\n",
    "print(id(s))\n",
    "s = \"bb\"\n",
    "print(id(s))"
   ]
  },
  {
   "cell_type": "code",
   "execution_count": null,
   "id": "f620247b",
   "metadata": {},
   "outputs": [],
   "source": []
  },
  {
   "cell_type": "code",
   "execution_count": null,
   "id": "e848cfaa",
   "metadata": {},
   "outputs": [],
   "source": []
  },
  {
   "cell_type": "code",
   "execution_count": null,
   "id": "9cc25390",
   "metadata": {},
   "outputs": [],
   "source": []
  },
  {
   "cell_type": "code",
   "execution_count": null,
   "id": "9d286788",
   "metadata": {},
   "outputs": [],
   "source": []
  },
  {
   "cell_type": "code",
   "execution_count": null,
   "id": "99a909a4",
   "metadata": {},
   "outputs": [],
   "source": []
  },
  {
   "cell_type": "code",
   "execution_count": null,
   "id": "84deee54",
   "metadata": {},
   "outputs": [],
   "source": []
  },
  {
   "cell_type": "code",
   "execution_count": null,
   "id": "1fa7fd28",
   "metadata": {},
   "outputs": [],
   "source": []
  },
  {
   "cell_type": "code",
   "execution_count": null,
   "id": "d8a81670",
   "metadata": {},
   "outputs": [],
   "source": []
  },
  {
   "cell_type": "markdown",
   "id": "8aaa0bb2",
   "metadata": {},
   "source": [
    "## Basic Operations\n",
    "1. Concatenation : `+`\n",
    "2. Repetition : `*`\n",
    "3. Check occurence : `in` operator\n",
    "4. Find index of occurence - `.find()`\n",
    "5. Changing case - .lower(), .upper()"
   ]
  },
  {
   "cell_type": "code",
   "execution_count": null,
   "id": "992bde06",
   "metadata": {},
   "outputs": [],
   "source": []
  },
  {
   "cell_type": "markdown",
   "id": "6cd4c7ab",
   "metadata": {},
   "source": [
    "## Concatenation : +"
   ]
  },
  {
   "cell_type": "code",
   "execution_count": 47,
   "id": "6bab4507",
   "metadata": {},
   "outputs": [],
   "source": [
    "harry = \"Harry Potter and the \"\n",
    "chamber = \"Chamber of Secrets\"\n",
    "x = 2\n",
    "book2 = harry + chamber + \": Book \" + str(x)"
   ]
  },
  {
   "cell_type": "code",
   "execution_count": 48,
   "id": "7fc0dbd9",
   "metadata": {},
   "outputs": [
    {
     "data": {
      "text/plain": [
       "'Harry Potter and the Chamber of Secrets: Book 2'"
      ]
     },
     "execution_count": 48,
     "metadata": {},
     "output_type": "execute_result"
    }
   ],
   "source": [
    "book2"
   ]
  },
  {
   "cell_type": "code",
   "execution_count": null,
   "id": "c9439b9d",
   "metadata": {},
   "outputs": [],
   "source": []
  },
  {
   "cell_type": "code",
   "execution_count": null,
   "id": "e2f58efb",
   "metadata": {},
   "outputs": [],
   "source": []
  },
  {
   "cell_type": "markdown",
   "id": "81739f01",
   "metadata": {},
   "source": [
    "## Repetition : *"
   ]
  },
  {
   "cell_type": "code",
   "execution_count": 50,
   "id": "b45ae2aa",
   "metadata": {},
   "outputs": [],
   "source": [
    "hello = \"Hello World\"\n",
    "s = hello*5"
   ]
  },
  {
   "cell_type": "code",
   "execution_count": 51,
   "id": "1240ccf3",
   "metadata": {},
   "outputs": [
    {
     "data": {
      "text/plain": [
       "'Hello WorldHello WorldHello WorldHello WorldHello World'"
      ]
     },
     "execution_count": 51,
     "metadata": {},
     "output_type": "execute_result"
    }
   ],
   "source": [
    "s"
   ]
  },
  {
   "cell_type": "code",
   "execution_count": 56,
   "id": "ee19dc37",
   "metadata": {},
   "outputs": [
    {
     "data": {
      "text/plain": [
       "'1 1 1 1 1 1 1 1 1 1 '"
      ]
     },
     "execution_count": 56,
     "metadata": {},
     "output_type": "execute_result"
    }
   ],
   "source": [
    "\"1 \"*10"
   ]
  },
  {
   "cell_type": "code",
   "execution_count": null,
   "id": "42d65954",
   "metadata": {},
   "outputs": [],
   "source": []
  },
  {
   "cell_type": "markdown",
   "id": "26e222f8",
   "metadata": {},
   "source": [
    "## in operator\n",
    "<img src=\"https://media.giphy.com/media/Id6W2FwdL6Sb4T9VF7/giphy.gif\" width=\"200\">"
   ]
  },
  {
   "cell_type": "code",
   "execution_count": 58,
   "id": "390c4ac7",
   "metadata": {},
   "outputs": [],
   "source": [
    "book = 'Harry Potter and the Half Blood Prince Harry'"
   ]
  },
  {
   "cell_type": "code",
   "execution_count": 59,
   "id": "7e7c4582",
   "metadata": {},
   "outputs": [
    {
     "name": "stdout",
     "output_type": "stream",
     "text": [
      "no\n"
     ]
    }
   ],
   "source": [
    "if \"harry\" in book:\n",
    "    print(\"yes\")\n",
    "else:\n",
    "    print(\"no\")"
   ]
  },
  {
   "cell_type": "markdown",
   "id": "cb827a07",
   "metadata": {},
   "source": [
    "## count()"
   ]
  },
  {
   "cell_type": "code",
   "execution_count": 60,
   "id": "19eaeb74",
   "metadata": {},
   "outputs": [
    {
     "data": {
      "text/plain": [
       "2"
      ]
     },
     "execution_count": 60,
     "metadata": {},
     "output_type": "execute_result"
    }
   ],
   "source": [
    "book.count(\"Harry\")"
   ]
  },
  {
   "cell_type": "code",
   "execution_count": null,
   "id": "1377ffce",
   "metadata": {},
   "outputs": [],
   "source": []
  },
  {
   "cell_type": "code",
   "execution_count": null,
   "id": "7b5e2c44",
   "metadata": {},
   "outputs": [],
   "source": []
  },
  {
   "cell_type": "code",
   "execution_count": null,
   "id": "73963c01",
   "metadata": {},
   "outputs": [],
   "source": []
  },
  {
   "cell_type": "code",
   "execution_count": null,
   "id": "060137f7",
   "metadata": {},
   "outputs": [],
   "source": []
  },
  {
   "cell_type": "code",
   "execution_count": null,
   "id": "8d7f4f7f",
   "metadata": {},
   "outputs": [],
   "source": []
  },
  {
   "cell_type": "code",
   "execution_count": null,
   "id": "214b230c",
   "metadata": {},
   "outputs": [],
   "source": []
  },
  {
   "cell_type": "markdown",
   "id": "d9ea05ef",
   "metadata": {},
   "source": [
    "## .find()"
   ]
  },
  {
   "cell_type": "code",
   "execution_count": 61,
   "id": "19b93d49",
   "metadata": {},
   "outputs": [
    {
     "name": "stdout",
     "output_type": "stream",
     "text": [
      "13\n"
     ]
    }
   ],
   "source": [
    "book = 'Harry Potter and the Half Blood Prince Harry'\n",
    "\n",
    "print(book.find('and'))"
   ]
  },
  {
   "cell_type": "code",
   "execution_count": null,
   "id": "163a0339",
   "metadata": {},
   "outputs": [],
   "source": []
  },
  {
   "cell_type": "code",
   "execution_count": null,
   "id": "35183d77",
   "metadata": {},
   "outputs": [],
   "source": []
  },
  {
   "cell_type": "code",
   "execution_count": null,
   "id": "7771910a",
   "metadata": {},
   "outputs": [],
   "source": []
  },
  {
   "cell_type": "markdown",
   "id": "a2b0260b",
   "metadata": {},
   "source": [
    "## .replace()\n",
    "<img src=\"https://media.giphy.com/media/bnDYyn2HMzqpDEUecP/giphy.gif\" width=\"200\"/>"
   ]
  },
  {
   "cell_type": "code",
   "execution_count": 62,
   "id": "949d8d2e",
   "metadata": {},
   "outputs": [],
   "source": [
    "text = \"Python is amazing\""
   ]
  },
  {
   "cell_type": "code",
   "execution_count": 63,
   "id": "e3cb5d02",
   "metadata": {},
   "outputs": [
    {
     "data": {
      "text/plain": [
       "'Python is amazing'"
      ]
     },
     "execution_count": 63,
     "metadata": {},
     "output_type": "execute_result"
    }
   ],
   "source": [
    "text"
   ]
  },
  {
   "cell_type": "code",
   "execution_count": 76,
   "id": "7afa6aaf",
   "metadata": {},
   "outputs": [],
   "source": [
    "new_text = text.replace('amazing', 'awesome')"
   ]
  },
  {
   "cell_type": "code",
   "execution_count": 77,
   "id": "9ff337a6",
   "metadata": {},
   "outputs": [
    {
     "data": {
      "text/plain": [
       "'Python is awesome'"
      ]
     },
     "execution_count": 77,
     "metadata": {},
     "output_type": "execute_result"
    }
   ],
   "source": [
    "new_text"
   ]
  },
  {
   "cell_type": "code",
   "execution_count": 73,
   "id": "2f2c22ef",
   "metadata": {},
   "outputs": [
    {
     "data": {
      "text/plain": [
       "'Python is amazing'"
      ]
     },
     "execution_count": 73,
     "metadata": {},
     "output_type": "execute_result"
    }
   ],
   "source": [
    "text"
   ]
  },
  {
   "cell_type": "code",
   "execution_count": 85,
   "id": "5c286bec",
   "metadata": {},
   "outputs": [
    {
     "data": {
      "text/plain": [
       "'Python is awesome'"
      ]
     },
     "execution_count": 85,
     "metadata": {},
     "output_type": "execute_result"
    }
   ],
   "source": [
    "\"Python is amazing\".replace(\"amazing\", 'awesome')"
   ]
  },
  {
   "cell_type": "code",
   "execution_count": null,
   "id": "cf51c66a",
   "metadata": {},
   "outputs": [],
   "source": []
  },
  {
   "cell_type": "code",
   "execution_count": 87,
   "id": "d0ca4b73",
   "metadata": {},
   "outputs": [],
   "source": []
  },
  {
   "cell_type": "code",
   "execution_count": null,
   "id": "46a26c63",
   "metadata": {},
   "outputs": [],
   "source": []
  },
  {
   "cell_type": "code",
   "execution_count": null,
   "id": "d46abf6d",
   "metadata": {},
   "outputs": [],
   "source": []
  },
  {
   "cell_type": "markdown",
   "id": "76bd2d6b",
   "metadata": {},
   "source": [
    "## .lower(), .upper()\n",
    "<img src=\"https://media.giphy.com/media/U6S0ljt7XRXXtfy3KG/giphy.gif\" width=\"200\"/>"
   ]
  },
  {
   "cell_type": "code",
   "execution_count": 78,
   "id": "41e246a9",
   "metadata": {},
   "outputs": [],
   "source": [
    "book = 'Harry Potter and the Half Blood Prince Harry'"
   ]
  },
  {
   "cell_type": "code",
   "execution_count": 89,
   "id": "e867ada3",
   "metadata": {},
   "outputs": [
    {
     "name": "stdout",
     "output_type": "stream",
     "text": [
      "harry potter and the half blood prince harry\n"
     ]
    }
   ],
   "source": [
    "lowercase_book = book.lower()\n",
    "print(lowercase_book)"
   ]
  },
  {
   "cell_type": "code",
   "execution_count": 83,
   "id": "f843fcf7",
   "metadata": {},
   "outputs": [
    {
     "name": "stdout",
     "output_type": "stream",
     "text": [
      "HARRY POTTER AND THE HALF BLOOD PRINCE HARRY\n"
     ]
    }
   ],
   "source": [
    "uppercase_book = book.upper()\n",
    "print(uppercase_book)"
   ]
  },
  {
   "cell_type": "code",
   "execution_count": 84,
   "id": "9e4c2cbd",
   "metadata": {},
   "outputs": [
    {
     "data": {
      "text/plain": [
       "'Harry Potter and the Half Blood Prince Harry'"
      ]
     },
     "execution_count": 84,
     "metadata": {},
     "output_type": "execute_result"
    }
   ],
   "source": [
    "book"
   ]
  },
  {
   "cell_type": "code",
   "execution_count": null,
   "id": "e19e6382",
   "metadata": {},
   "outputs": [],
   "source": []
  },
  {
   "cell_type": "code",
   "execution_count": null,
   "id": "43375cdf",
   "metadata": {},
   "outputs": [],
   "source": []
  },
  {
   "cell_type": "markdown",
   "id": "d8fbfe97",
   "metadata": {},
   "source": [
    "## Looping over strings\n",
    "<img src=\"https://media.giphy.com/media/ieaUdBJJC19uw/giphy-downsized-large.gif\" width=\"200\"/>"
   ]
  },
  {
   "cell_type": "code",
   "execution_count": 92,
   "id": "a08f4934",
   "metadata": {},
   "outputs": [
    {
     "name": "stdout",
     "output_type": "stream",
     "text": [
      "H/a/r/r/y/ /P/o/t/t/e/r/ /a/n/d/ /t/h/e/ /H/a/l/f/ /B/l/o/o/d/ /P/r/i/n/c/e/ /H/a/r/r/y/"
     ]
    }
   ],
   "source": [
    "for char in book:\n",
    "    print(char, end='/')"
   ]
  },
  {
   "cell_type": "code",
   "execution_count": 93,
   "id": "570532c0",
   "metadata": {},
   "outputs": [],
   "source": [
    "book = 'Harry Potter and the Half Blood Prince Harry'"
   ]
  },
  {
   "cell_type": "code",
   "execution_count": 94,
   "id": "be384263",
   "metadata": {},
   "outputs": [],
   "source": [
    "del book"
   ]
  },
  {
   "cell_type": "code",
   "execution_count": 95,
   "id": "9d3bee95",
   "metadata": {},
   "outputs": [
    {
     "ename": "NameError",
     "evalue": "name 'book' is not defined",
     "output_type": "error",
     "traceback": [
      "\u001b[0;31m---------------------------------------------------------------------------\u001b[0m",
      "\u001b[0;31mNameError\u001b[0m                                 Traceback (most recent call last)",
      "\u001b[0;32m/var/folders/jn/1bsrct314hv5xmfm7vrcdrzc0000gn/T/ipykernel_12105/1153044440.py\u001b[0m in \u001b[0;36m<module>\u001b[0;34m\u001b[0m\n\u001b[0;32m----> 1\u001b[0;31m \u001b[0mprint\u001b[0m\u001b[0;34m(\u001b[0m\u001b[0mbook\u001b[0m\u001b[0;34m)\u001b[0m\u001b[0;34m\u001b[0m\u001b[0;34m\u001b[0m\u001b[0m\n\u001b[0m",
      "\u001b[0;31mNameError\u001b[0m: name 'book' is not defined"
     ]
    }
   ],
   "source": [
    "print(book)"
   ]
  },
  {
   "cell_type": "markdown",
   "id": "136b8399",
   "metadata": {},
   "source": [
    "## ord function\n",
    "To get the ASCII code for any character"
   ]
  },
  {
   "cell_type": "code",
   "execution_count": 96,
   "id": "da7c9dba",
   "metadata": {},
   "outputs": [
    {
     "data": {
      "text/plain": [
       "97"
      ]
     },
     "execution_count": 96,
     "metadata": {},
     "output_type": "execute_result"
    }
   ],
   "source": [
    "ord('a')"
   ]
  },
  {
   "cell_type": "code",
   "execution_count": 97,
   "id": "b21ac055",
   "metadata": {},
   "outputs": [
    {
     "data": {
      "text/plain": [
       "65"
      ]
     },
     "execution_count": 97,
     "metadata": {},
     "output_type": "execute_result"
    }
   ],
   "source": [
    "ord('A')"
   ]
  },
  {
   "cell_type": "code",
   "execution_count": 98,
   "id": "c780c54e",
   "metadata": {},
   "outputs": [
    {
     "ename": "TypeError",
     "evalue": "ord() expected a character, but string of length 2 found",
     "output_type": "error",
     "traceback": [
      "\u001b[0;31m---------------------------------------------------------------------------\u001b[0m",
      "\u001b[0;31mTypeError\u001b[0m                                 Traceback (most recent call last)",
      "\u001b[0;32m/var/folders/jn/1bsrct314hv5xmfm7vrcdrzc0000gn/T/ipykernel_12105/308877286.py\u001b[0m in \u001b[0;36m<module>\u001b[0;34m\u001b[0m\n\u001b[0;32m----> 1\u001b[0;31m \u001b[0mord\u001b[0m\u001b[0;34m(\u001b[0m\u001b[0;34m'ab'\u001b[0m\u001b[0;34m)\u001b[0m\u001b[0;34m\u001b[0m\u001b[0;34m\u001b[0m\u001b[0m\n\u001b[0m",
      "\u001b[0;31mTypeError\u001b[0m: ord() expected a character, but string of length 2 found"
     ]
    }
   ],
   "source": [
    "ord('ab')"
   ]
  },
  {
   "cell_type": "code",
   "execution_count": 99,
   "id": "4e231b1f",
   "metadata": {},
   "outputs": [
    {
     "data": {
      "text/plain": [
       "'a'"
      ]
     },
     "execution_count": 99,
     "metadata": {},
     "output_type": "execute_result"
    }
   ],
   "source": [
    "chr(97)"
   ]
  },
  {
   "cell_type": "code",
   "execution_count": null,
   "id": "f08da0bb",
   "metadata": {},
   "outputs": [],
   "source": []
  },
  {
   "cell_type": "code",
   "execution_count": null,
   "id": "f7a6e015",
   "metadata": {},
   "outputs": [],
   "source": []
  },
  {
   "cell_type": "markdown",
   "id": "ed04d118",
   "metadata": {},
   "source": [
    "## String splicing"
   ]
  },
  {
   "cell_type": "code",
   "execution_count": 100,
   "id": "6091bc58",
   "metadata": {},
   "outputs": [],
   "source": [
    "s = \"Hello World\""
   ]
  },
  {
   "cell_type": "code",
   "execution_count": 101,
   "id": "e8431e75",
   "metadata": {},
   "outputs": [
    {
     "data": {
      "text/plain": [
       "'Hello Worl'"
      ]
     },
     "execution_count": 101,
     "metadata": {},
     "output_type": "execute_result"
    }
   ],
   "source": [
    "s[:-1]"
   ]
  },
  {
   "cell_type": "code",
   "execution_count": 109,
   "id": "8e1af6c2",
   "metadata": {},
   "outputs": [],
   "source": [
    "s = \"this book\"\n",
    "rever = s[::-1]"
   ]
  },
  {
   "cell_type": "code",
   "execution_count": 110,
   "id": "633f4f46",
   "metadata": {},
   "outputs": [
    {
     "data": {
      "text/plain": [
       "'koob siht'"
      ]
     },
     "execution_count": 110,
     "metadata": {},
     "output_type": "execute_result"
    }
   ],
   "source": [
    "rever"
   ]
  },
  {
   "cell_type": "code",
   "execution_count": null,
   "id": "441057ab",
   "metadata": {},
   "outputs": [],
   "source": []
  },
  {
   "cell_type": "code",
   "execution_count": null,
   "id": "17447166",
   "metadata": {},
   "outputs": [],
   "source": []
  },
  {
   "cell_type": "markdown",
   "id": "65edc1fe",
   "metadata": {},
   "source": [
    "## Pattern Problem\n",
    "A\\\n",
    "BB\\\n",
    "CCC\\\n",
    "DDDD\n"
   ]
  },
  {
   "cell_type": "code",
   "execution_count": 102,
   "id": "a33c0daf",
   "metadata": {},
   "outputs": [
    {
     "name": "stdout",
     "output_type": "stream",
     "text": [
      "A\n",
      "B B\n",
      "C C C\n",
      "D D D D\n"
     ]
    }
   ],
   "source": [
    "n = 4\n",
    "for i in range(1, n+1):\n",
    "    c = chr(i + ord('A') - 1)\n",
    "    s = (c + \" \") * i\n",
    "    print(s[:-1])"
   ]
  },
  {
   "cell_type": "code",
   "execution_count": null,
   "id": "f27b52f4",
   "metadata": {},
   "outputs": [],
   "source": []
  },
  {
   "cell_type": "code",
   "execution_count": null,
   "id": "1fb582ff",
   "metadata": {},
   "outputs": [],
   "source": []
  },
  {
   "cell_type": "code",
   "execution_count": null,
   "id": "8966999e",
   "metadata": {},
   "outputs": [],
   "source": []
  },
  {
   "cell_type": "markdown",
   "id": "d9f7159a",
   "metadata": {},
   "source": [
    "## strip function"
   ]
  },
  {
   "cell_type": "code",
   "execution_count": 103,
   "id": "f5129104",
   "metadata": {},
   "outputs": [],
   "source": [
    "s = \"        Hello World         \""
   ]
  },
  {
   "cell_type": "code",
   "execution_count": 104,
   "id": "b222db63",
   "metadata": {},
   "outputs": [
    {
     "data": {
      "text/plain": [
       "'        Hello World         '"
      ]
     },
     "execution_count": 104,
     "metadata": {},
     "output_type": "execute_result"
    }
   ],
   "source": [
    "s"
   ]
  },
  {
   "cell_type": "code",
   "execution_count": 106,
   "id": "7a1c2cf7",
   "metadata": {},
   "outputs": [
    {
     "data": {
      "text/plain": [
       "'Hello World         '"
      ]
     },
     "execution_count": 106,
     "metadata": {},
     "output_type": "execute_result"
    }
   ],
   "source": [
    "s.lstrip()"
   ]
  },
  {
   "cell_type": "code",
   "execution_count": 107,
   "id": "4eda04ff",
   "metadata": {},
   "outputs": [
    {
     "data": {
      "text/plain": [
       "'        Hello World'"
      ]
     },
     "execution_count": 107,
     "metadata": {},
     "output_type": "execute_result"
    }
   ],
   "source": [
    "s.rstrip()"
   ]
  },
  {
   "cell_type": "code",
   "execution_count": 108,
   "id": "1b3357aa",
   "metadata": {},
   "outputs": [
    {
     "data": {
      "text/plain": [
       "'Hello World'"
      ]
     },
     "execution_count": 108,
     "metadata": {},
     "output_type": "execute_result"
    }
   ],
   "source": [
    "s.strip()"
   ]
  },
  {
   "cell_type": "code",
   "execution_count": null,
   "id": "85c61090",
   "metadata": {},
   "outputs": [],
   "source": []
  },
  {
   "cell_type": "code",
   "execution_count": null,
   "id": "bc63d5a1",
   "metadata": {},
   "outputs": [],
   "source": []
  },
  {
   "cell_type": "code",
   "execution_count": null,
   "id": "ab1b19e1",
   "metadata": {},
   "outputs": [],
   "source": []
  },
  {
   "cell_type": "markdown",
   "id": "632c3f67",
   "metadata": {},
   "source": [
    "## Reverse the order of words"
   ]
  },
  {
   "cell_type": "code",
   "execution_count": 120,
   "id": "8c41f515",
   "metadata": {},
   "outputs": [],
   "source": [
    "book = \"Harry Potter and the Half Blood Prince\""
   ]
  },
  {
   "cell_type": "code",
   "execution_count": 121,
   "id": "9537fe7b",
   "metadata": {},
   "outputs": [],
   "source": [
    "l = book.split()"
   ]
  },
  {
   "cell_type": "code",
   "execution_count": 122,
   "id": "97640345",
   "metadata": {},
   "outputs": [
    {
     "data": {
      "text/plain": [
       "list"
      ]
     },
     "execution_count": 122,
     "metadata": {},
     "output_type": "execute_result"
    }
   ],
   "source": [
    "type(l)"
   ]
  },
  {
   "cell_type": "code",
   "execution_count": 123,
   "id": "f4f8ef92",
   "metadata": {},
   "outputs": [
    {
     "data": {
      "text/plain": [
       "['Harry', 'Potter', 'and', 'the', 'Half', 'Blood', 'Prince']"
      ]
     },
     "execution_count": 123,
     "metadata": {},
     "output_type": "execute_result"
    }
   ],
   "source": [
    "l"
   ]
  },
  {
   "cell_type": "code",
   "execution_count": 124,
   "id": "29373384",
   "metadata": {},
   "outputs": [],
   "source": [
    "l = l[::-1]"
   ]
  },
  {
   "cell_type": "code",
   "execution_count": 126,
   "id": "087d250c",
   "metadata": {},
   "outputs": [
    {
     "data": {
      "text/plain": [
       "['Prince', 'Blood', 'Half', 'the', 'and', 'Potter', 'Harry']"
      ]
     },
     "execution_count": 126,
     "metadata": {},
     "output_type": "execute_result"
    }
   ],
   "source": [
    "l"
   ]
  },
  {
   "cell_type": "code",
   "execution_count": 135,
   "id": "d943abbd",
   "metadata": {},
   "outputs": [],
   "source": [
    "s = \" \".join(l)"
   ]
  },
  {
   "cell_type": "code",
   "execution_count": 136,
   "id": "3d6e736e",
   "metadata": {},
   "outputs": [
    {
     "data": {
      "text/plain": [
       "'Prince Blood Half the and Potter Harry'"
      ]
     },
     "execution_count": 136,
     "metadata": {},
     "output_type": "execute_result"
    }
   ],
   "source": [
    "s"
   ]
  },
  {
   "cell_type": "code",
   "execution_count": 138,
   "id": "a2d1f25f",
   "metadata": {},
   "outputs": [],
   "source": [
    "s = \"this book\"\n",
    "s = s[::-1]"
   ]
  },
  {
   "cell_type": "code",
   "execution_count": 139,
   "id": "897c1b87",
   "metadata": {},
   "outputs": [
    {
     "data": {
      "text/plain": [
       "'koob siht'"
      ]
     },
     "execution_count": 139,
     "metadata": {},
     "output_type": "execute_result"
    }
   ],
   "source": [
    "s"
   ]
  },
  {
   "cell_type": "code",
   "execution_count": 140,
   "id": "bfd8244d",
   "metadata": {},
   "outputs": [],
   "source": [
    "s = \" \".join(s.split()[::-1])"
   ]
  },
  {
   "cell_type": "code",
   "execution_count": 141,
   "id": "83dbaad6",
   "metadata": {},
   "outputs": [
    {
     "data": {
      "text/plain": [
       "'siht koob'"
      ]
     },
     "execution_count": 141,
     "metadata": {},
     "output_type": "execute_result"
    }
   ],
   "source": [
    "s"
   ]
  },
  {
   "cell_type": "markdown",
   "id": "dec57c78",
   "metadata": {},
   "source": [
    "## Format strings"
   ]
  },
  {
   "cell_type": "code",
   "execution_count": 142,
   "id": "80e2918c",
   "metadata": {},
   "outputs": [],
   "source": [
    "apple_count = 4\n",
    "orange_count = 10\n",
    "guava_count = 5\n",
    "\n",
    "\n",
    "# generate a string that says, \"I have 4 apples, 10 oranges and 5 guavas\""
   ]
  },
  {
   "cell_type": "code",
   "execution_count": 145,
   "id": "9e354396",
   "metadata": {},
   "outputs": [],
   "source": [
    "s = \"I have \" + str(apple_count) + \" apples, \" + str(orange_count) + \" oranges and \" + str(guava_count) + \" guavas.\""
   ]
  },
  {
   "cell_type": "code",
   "execution_count": 146,
   "id": "7b50d668",
   "metadata": {},
   "outputs": [
    {
     "data": {
      "text/plain": [
       "'I have 4 apples, 10 oranges and 5 guavas.'"
      ]
     },
     "execution_count": 146,
     "metadata": {},
     "output_type": "execute_result"
    }
   ],
   "source": [
    "s"
   ]
  },
  {
   "cell_type": "code",
   "execution_count": 147,
   "id": "206a65b6",
   "metadata": {},
   "outputs": [],
   "source": [
    "s = f\"I have {apple_count} apples, {orange_count} oranges and {guava_count} guavas\""
   ]
  },
  {
   "cell_type": "code",
   "execution_count": 148,
   "id": "baaba13c",
   "metadata": {},
   "outputs": [
    {
     "data": {
      "text/plain": [
       "'I have 4 apples, 10 oranges and 5 guavas'"
      ]
     },
     "execution_count": 148,
     "metadata": {},
     "output_type": "execute_result"
    }
   ],
   "source": [
    "s"
   ]
  },
  {
   "cell_type": "code",
   "execution_count": null,
   "id": "0a146736",
   "metadata": {},
   "outputs": [],
   "source": []
  },
  {
   "cell_type": "code",
   "execution_count": null,
   "id": "27b3b3c9",
   "metadata": {},
   "outputs": [],
   "source": []
  },
  {
   "cell_type": "code",
   "execution_count": null,
   "id": "d23457da",
   "metadata": {},
   "outputs": [],
   "source": []
  },
  {
   "cell_type": "code",
   "execution_count": 153,
   "id": "b51d6145",
   "metadata": {},
   "outputs": [],
   "source": [
    "s = \"I have {} apples, {} oranges and {} guavas\".format(apple_count, orange_count, guava_count)"
   ]
  },
  {
   "cell_type": "code",
   "execution_count": 154,
   "id": "359bdd14",
   "metadata": {},
   "outputs": [
    {
     "data": {
      "text/plain": [
       "'I have 4 apples, 10 oranges and 5 guavas'"
      ]
     },
     "execution_count": 154,
     "metadata": {},
     "output_type": "execute_result"
    }
   ],
   "source": [
    "s"
   ]
  },
  {
   "cell_type": "markdown",
   "id": "ff4a46a2",
   "metadata": {},
   "source": [
    "## Methods in Strings - https://www.scaler.com/topics/python/string-methods-python/"
   ]
  },
  {
   "cell_type": "code",
   "execution_count": null,
   "id": "3882db30",
   "metadata": {},
   "outputs": [],
   "source": []
  },
  {
   "cell_type": "code",
   "execution_count": null,
   "id": "068c75d1",
   "metadata": {},
   "outputs": [],
   "source": []
  },
  {
   "cell_type": "code",
   "execution_count": null,
   "id": "e2d3f07b",
   "metadata": {},
   "outputs": [],
   "source": []
  },
  {
   "cell_type": "markdown",
   "id": "1f86d5d6",
   "metadata": {},
   "source": [
    "# Docstrings"
   ]
  },
  {
   "cell_type": "code",
   "execution_count": 156,
   "id": "c5c3e1ba",
   "metadata": {},
   "outputs": [],
   "source": [
    "range?"
   ]
  },
  {
   "cell_type": "code",
   "execution_count": 162,
   "id": "bb8961af",
   "metadata": {},
   "outputs": [],
   "source": [
    "def square(x):\n",
    "    '''\n",
    "    This function returns the square of a number\n",
    "    '''\n",
    "    return x**2"
   ]
  },
  {
   "cell_type": "code",
   "execution_count": 163,
   "id": "c3e5ea79",
   "metadata": {},
   "outputs": [],
   "source": [
    "square?"
   ]
  },
  {
   "cell_type": "code",
   "execution_count": 160,
   "id": "fe35842e",
   "metadata": {},
   "outputs": [
    {
     "data": {
      "text/plain": [
       "25"
      ]
     },
     "execution_count": 160,
     "metadata": {},
     "output_type": "execute_result"
    }
   ],
   "source": [
    "square(5)"
   ]
  },
  {
   "cell_type": "code",
   "execution_count": null,
   "id": "008bfaae",
   "metadata": {},
   "outputs": [],
   "source": []
  }
 ],
 "metadata": {
  "kernelspec": {
   "display_name": "Python 3 (ipykernel)",
   "language": "python",
   "name": "python3"
  },
  "language_info": {
   "codemirror_mode": {
    "name": "ipython",
    "version": 3
   },
   "file_extension": ".py",
   "mimetype": "text/x-python",
   "name": "python",
   "nbconvert_exporter": "python",
   "pygments_lexer": "ipython3",
   "version": "3.9.7"
  }
 },
 "nbformat": 4,
 "nbformat_minor": 5
}
