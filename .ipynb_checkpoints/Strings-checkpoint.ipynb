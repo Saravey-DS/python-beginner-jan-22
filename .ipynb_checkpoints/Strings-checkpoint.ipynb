{
 "cells": [
  {
   "cell_type": "markdown",
   "id": "3f58fe1a",
   "metadata": {},
   "source": [
    "# Function - kwargs\n",
    "keyword arguments"
   ]
  },
  {
   "cell_type": "code",
   "execution_count": 12,
   "id": "008a9bcc",
   "metadata": {},
   "outputs": [],
   "source": [
    "def person(name, age, profession, **kwargs):\n",
    "    print(name, age, profession)\n",
    "    print(kwargs)\n",
    "    print(type(kwargs))"
   ]
  },
  {
   "cell_type": "code",
   "execution_count": 13,
   "id": "76390e7f",
   "metadata": {},
   "outputs": [
    {
     "name": "stdout",
     "output_type": "stream",
     "text": [
      "Peter Parker 20 Photographer\n",
      "{'city': 'New York', 'villains': ['Venom']}\n",
      "<class 'dict'>\n"
     ]
    }
   ],
   "source": [
    "person(\"Peter Parker\", 20, \"Photographer\", city=\"New York\", villains=['Venom'])"
   ]
  },
  {
   "cell_type": "code",
   "execution_count": null,
   "id": "1c58e35a",
   "metadata": {},
   "outputs": [],
   "source": []
  },
  {
   "cell_type": "code",
   "execution_count": null,
   "id": "f1725dfa",
   "metadata": {},
   "outputs": [],
   "source": []
  },
  {
   "cell_type": "code",
   "execution_count": null,
   "id": "23534053",
   "metadata": {},
   "outputs": [],
   "source": []
  },
  {
   "cell_type": "code",
   "execution_count": null,
   "id": "636d2e5f",
   "metadata": {},
   "outputs": [],
   "source": []
  },
  {
   "cell_type": "code",
   "execution_count": null,
   "id": "9b370cfb",
   "metadata": {},
   "outputs": [],
   "source": []
  },
  {
   "cell_type": "code",
   "execution_count": null,
   "id": "159f4476",
   "metadata": {},
   "outputs": [],
   "source": []
  },
  {
   "cell_type": "code",
   "execution_count": null,
   "id": "0bedf760",
   "metadata": {},
   "outputs": [],
   "source": []
  },
  {
   "cell_type": "code",
   "execution_count": 17,
   "id": "baa7406c",
   "metadata": {},
   "outputs": [],
   "source": [
    "def hogwarts(house1, house2, house3, house4, *args, **kwargs):\n",
    "    print(\"Houses are \", house1, house2, house3, house4)\n",
    "    print()\n",
    "    print(\"Args :\", args)\n",
    "    print()\n",
    "    print(\"Kwargs :\", kwargs)"
   ]
  },
  {
   "cell_type": "code",
   "execution_count": 22,
   "id": "a5ae04fc",
   "metadata": {},
   "outputs": [
    {
     "name": "stdout",
     "output_type": "stream",
     "text": [
      "Houses are  Gryffindor Ravenclaw Hufflepuff Slytherin\n",
      "\n",
      "Args : ('Severus Snape', 'Horace Slughorn', 'Remus Lupin')\n",
      "\n",
      "Kwargs : {'headmaster': 'Albus Dumbledore', 'deputy_headmistress': 'Minerva McGonagall'}\n"
     ]
    }
   ],
   "source": [
    "hogwarts(\n",
    "    \"Gryffindor\",\n",
    "    \"Ravenclaw\",\n",
    "    \"Hufflepuff\",\n",
    "    \"Slytherin\",\n",
    "    \"Severus Snape\",\n",
    "    \"Horace Slughorn\",\n",
    "    \"Remus Lupin\",\n",
    "    headmaster=\"Albus Dumbledore\",\n",
    "    deputy_headmistress=\"Minerva McGonagall\"\n",
    ")"
   ]
  },
  {
   "cell_type": "code",
   "execution_count": null,
   "id": "3d80adaa",
   "metadata": {},
   "outputs": [],
   "source": []
  },
  {
   "cell_type": "code",
   "execution_count": null,
   "id": "a265a0fe",
   "metadata": {},
   "outputs": [],
   "source": []
  },
  {
   "cell_type": "markdown",
   "id": "9e5b757d",
   "metadata": {},
   "source": [
    "<img src=\"https://media.giphy.com/media/qLHzYjlA2FW8g/giphy.gif\" width=\"200\" />"
   ]
  },
  {
   "cell_type": "code",
   "execution_count": null,
   "id": "b2a4fa1d",
   "metadata": {},
   "outputs": [],
   "source": []
  },
  {
   "cell_type": "markdown",
   "id": "4e565941",
   "metadata": {},
   "source": [
    "# Strings\n",
    "<img src=\"https://media.giphy.com/media/11I8v5lE8uq79C/giphy.gif\" width=\"200\"/>\n"
   ]
  },
  {
   "cell_type": "markdown",
   "id": "7de1537b",
   "metadata": {},
   "source": [
    "## Initialisation and Indexing"
   ]
  },
  {
   "cell_type": "code",
   "execution_count": 32,
   "id": "063e5595",
   "metadata": {},
   "outputs": [],
   "source": [
    "books = \"\"\"\n",
    "Harry Potter and the Philospher's Stone\n",
    "Harry Potter and the Chamber of Secrets\n",
    "Harry Potter and the Half Blood Prince\n",
    "\"\"\""
   ]
  },
  {
   "cell_type": "code",
   "execution_count": 33,
   "id": "bc010840",
   "metadata": {},
   "outputs": [
    {
     "name": "stdout",
     "output_type": "stream",
     "text": [
      "\n",
      "Harry Potter and the Philospher's Stone\n",
      "Harry Potter and the Chamber of Secrets\n",
      "Harry Potter and the Half Blood Prince\n",
      "\n"
     ]
    }
   ],
   "source": [
    "print(books)"
   ]
  },
  {
   "cell_type": "code",
   "execution_count": 34,
   "id": "e5034e4f",
   "metadata": {},
   "outputs": [],
   "source": [
    "book = 'Harry Potter and the Half Blood Prince'"
   ]
  },
  {
   "cell_type": "code",
   "execution_count": 39,
   "id": "6c8ab4a4",
   "metadata": {},
   "outputs": [
    {
     "data": {
      "text/plain": [
       "' '"
      ]
     },
     "execution_count": 39,
     "metadata": {},
     "output_type": "execute_result"
    }
   ],
   "source": [
    "book[5]"
   ]
  },
  {
   "cell_type": "code",
   "execution_count": 40,
   "id": "c7740cb1",
   "metadata": {},
   "outputs": [],
   "source": [
    "s = \"Hello\"\n",
    "s = \"Hello World\""
   ]
  },
  {
   "cell_type": "code",
   "execution_count": 41,
   "id": "accba37e",
   "metadata": {},
   "outputs": [
    {
     "data": {
      "text/plain": [
       "38"
      ]
     },
     "execution_count": 41,
     "metadata": {},
     "output_type": "execute_result"
    }
   ],
   "source": [
    "len(book)"
   ]
  },
  {
   "cell_type": "code",
   "execution_count": null,
   "id": "adc9e013",
   "metadata": {},
   "outputs": [],
   "source": []
  },
  {
   "cell_type": "code",
   "execution_count": null,
   "id": "55315d16",
   "metadata": {},
   "outputs": [],
   "source": []
  },
  {
   "cell_type": "code",
   "execution_count": null,
   "id": "fc3b5028",
   "metadata": {},
   "outputs": [],
   "source": []
  },
  {
   "cell_type": "code",
   "execution_count": null,
   "id": "bab509ff",
   "metadata": {},
   "outputs": [],
   "source": []
  },
  {
   "cell_type": "code",
   "execution_count": null,
   "id": "a7c05cc2",
   "metadata": {},
   "outputs": [],
   "source": []
  },
  {
   "cell_type": "markdown",
   "id": "9b9ef9f9",
   "metadata": {},
   "source": [
    "## Mutable or Immutable ?\n",
    "Python strings are immutable."
   ]
  },
  {
   "cell_type": "markdown",
   "id": "13c727d4",
   "metadata": {},
   "source": [
    "- Mutable - Can be changed or modified\n",
    "- Immutable - Cannot be changed or modified"
   ]
  },
  {
   "cell_type": "code",
   "execution_count": 49,
   "id": "0eaa01b8",
   "metadata": {},
   "outputs": [
    {
     "name": "stdout",
     "output_type": "stream",
     "text": [
      "4373487536\n",
      "4377345584\n"
     ]
    }
   ],
   "source": [
    "s = \"ab\"\n",
    "print(id(s))\n",
    "s = \"bb\"\n",
    "print(id(s))"
   ]
  },
  {
   "cell_type": "code",
   "execution_count": null,
   "id": "f620247b",
   "metadata": {},
   "outputs": [],
   "source": []
  },
  {
   "cell_type": "code",
   "execution_count": null,
   "id": "e848cfaa",
   "metadata": {},
   "outputs": [],
   "source": []
  },
  {
   "cell_type": "code",
   "execution_count": null,
   "id": "9cc25390",
   "metadata": {},
   "outputs": [],
   "source": []
  },
  {
   "cell_type": "code",
   "execution_count": null,
   "id": "9d286788",
   "metadata": {},
   "outputs": [],
   "source": []
  },
  {
   "cell_type": "code",
   "execution_count": null,
   "id": "99a909a4",
   "metadata": {},
   "outputs": [],
   "source": []
  },
  {
   "cell_type": "code",
   "execution_count": null,
   "id": "84deee54",
   "metadata": {},
   "outputs": [],
   "source": []
  },
  {
   "cell_type": "code",
   "execution_count": null,
   "id": "1fa7fd28",
   "metadata": {},
   "outputs": [],
   "source": []
  },
  {
   "cell_type": "code",
   "execution_count": null,
   "id": "d8a81670",
   "metadata": {},
   "outputs": [],
   "source": []
  },
  {
   "cell_type": "markdown",
   "id": "8aaa0bb2",
   "metadata": {},
   "source": [
    "## Basic Operations\n",
    "1. Concatenation : `+`\n",
    "2. Repetition : `*`\n",
    "3. Check occurence : `in` operator\n",
    "4. Find index of occurence - `.find()`\n",
    "5. Changing case - .lower(), .upper()"
   ]
  },
  {
   "cell_type": "code",
   "execution_count": null,
   "id": "992bde06",
   "metadata": {},
   "outputs": [],
   "source": []
  },
  {
   "cell_type": "markdown",
   "id": "6cd4c7ab",
   "metadata": {},
   "source": [
    "## Concatenation : +"
   ]
  },
  {
   "cell_type": "code",
   "execution_count": 47,
   "id": "6bab4507",
   "metadata": {},
   "outputs": [],
   "source": [
    "harry = \"Harry Potter and the \"\n",
    "chamber = \"Chamber of Secrets\"\n",
    "x = 2\n",
    "book2 = harry + chamber + \": Book \" + str(x)"
   ]
  },
  {
   "cell_type": "code",
   "execution_count": 48,
   "id": "7fc0dbd9",
   "metadata": {},
   "outputs": [
    {
     "data": {
      "text/plain": [
       "'Harry Potter and the Chamber of Secrets: Book 2'"
      ]
     },
     "execution_count": 48,
     "metadata": {},
     "output_type": "execute_result"
    }
   ],
   "source": [
    "book2"
   ]
  },
  {
   "cell_type": "code",
   "execution_count": null,
   "id": "c9439b9d",
   "metadata": {},
   "outputs": [],
   "source": []
  },
  {
   "cell_type": "code",
   "execution_count": null,
   "id": "e2f58efb",
   "metadata": {},
   "outputs": [],
   "source": []
  },
  {
   "cell_type": "markdown",
   "id": "81739f01",
   "metadata": {},
   "source": [
    "## Repetition : *"
   ]
  },
  {
   "cell_type": "code",
   "execution_count": 50,
   "id": "b45ae2aa",
   "metadata": {},
   "outputs": [],
   "source": [
    "hello = \"Hello World\"\n",
    "s = hello*5"
   ]
  },
  {
   "cell_type": "code",
   "execution_count": 51,
   "id": "1240ccf3",
   "metadata": {},
   "outputs": [
    {
     "data": {
      "text/plain": [
       "'Hello WorldHello WorldHello WorldHello WorldHello World'"
      ]
     },
     "execution_count": 51,
     "metadata": {},
     "output_type": "execute_result"
    }
   ],
   "source": [
    "s"
   ]
  },
  {
   "cell_type": "code",
   "execution_count": 56,
   "id": "ee19dc37",
   "metadata": {},
   "outputs": [
    {
     "data": {
      "text/plain": [
       "'1 1 1 1 1 1 1 1 1 1 '"
      ]
     },
     "execution_count": 56,
     "metadata": {},
     "output_type": "execute_result"
    }
   ],
   "source": [
    "\"1 \"*10"
   ]
  },
  {
   "cell_type": "code",
   "execution_count": null,
   "id": "42d65954",
   "metadata": {},
   "outputs": [],
   "source": []
  },
  {
   "cell_type": "markdown",
   "id": "26e222f8",
   "metadata": {},
   "source": [
    "## in operator\n",
    "<img src=\"https://media.giphy.com/media/Id6W2FwdL6Sb4T9VF7/giphy.gif\" width=\"200\">"
   ]
  },
  {
   "cell_type": "code",
   "execution_count": 58,
   "id": "390c4ac7",
   "metadata": {},
   "outputs": [],
   "source": [
    "book = 'Harry Potter and the Half Blood Prince Harry'"
   ]
  },
  {
   "cell_type": "code",
   "execution_count": 59,
   "id": "7e7c4582",
   "metadata": {},
   "outputs": [
    {
     "name": "stdout",
     "output_type": "stream",
     "text": [
      "no\n"
     ]
    }
   ],
   "source": [
    "if \"harry\" in book:\n",
    "    print(\"yes\")\n",
    "else:\n",
    "    print(\"no\")"
   ]
  },
  {
   "cell_type": "markdown",
   "id": "f0311ff2",
   "metadata": {},
   "source": [
    "## count()"
   ]
  },
  {
   "cell_type": "code",
   "execution_count": 60,
   "id": "19eaeb74",
   "metadata": {},
   "outputs": [
    {
     "data": {
      "text/plain": [
       "2"
      ]
     },
     "execution_count": 60,
     "metadata": {},
     "output_type": "execute_result"
    }
   ],
   "source": [
    "book.count(\"Harry\")"
   ]
  },
  {
   "cell_type": "code",
   "execution_count": null,
   "id": "1377ffce",
   "metadata": {},
   "outputs": [],
   "source": []
  },
  {
   "cell_type": "code",
   "execution_count": null,
   "id": "7b5e2c44",
   "metadata": {},
   "outputs": [],
   "source": []
  },
  {
   "cell_type": "code",
   "execution_count": null,
   "id": "73963c01",
   "metadata": {},
   "outputs": [],
   "source": []
  },
  {
   "cell_type": "code",
   "execution_count": null,
   "id": "060137f7",
   "metadata": {},
   "outputs": [],
   "source": []
  },
  {
   "cell_type": "code",
   "execution_count": null,
   "id": "8d7f4f7f",
   "metadata": {},
   "outputs": [],
   "source": []
  },
  {
   "cell_type": "code",
   "execution_count": null,
   "id": "214b230c",
   "metadata": {},
   "outputs": [],
   "source": []
  },
  {
   "cell_type": "markdown",
   "id": "d9ea05ef",
   "metadata": {},
   "source": [
    "## .find()"
   ]
  },
  {
   "cell_type": "code",
   "execution_count": 61,
   "id": "19b93d49",
   "metadata": {},
   "outputs": [
    {
     "name": "stdout",
     "output_type": "stream",
     "text": [
      "13\n"
     ]
    }
   ],
   "source": [
    "book = 'Harry Potter and the Half Blood Prince Harry'\n",
    "\n",
    "print(book.find('and'))"
   ]
  },
  {
   "cell_type": "code",
   "execution_count": null,
   "id": "163a0339",
   "metadata": {},
   "outputs": [],
   "source": []
  },
  {
   "cell_type": "code",
   "execution_count": null,
   "id": "35183d77",
   "metadata": {},
   "outputs": [],
   "source": []
  },
  {
   "cell_type": "code",
   "execution_count": null,
   "id": "7771910a",
   "metadata": {},
   "outputs": [],
   "source": []
  },
  {
   "cell_type": "markdown",
   "id": "a2b0260b",
   "metadata": {},
   "source": [
    "## .replace()\n",
    "<img src=\"https://media.giphy.com/media/bnDYyn2HMzqpDEUecP/giphy.gif\" width=\"200\"/>"
   ]
  },
  {
   "cell_type": "code",
   "execution_count": 62,
   "id": "949d8d2e",
   "metadata": {},
   "outputs": [],
   "source": [
    "text = \"Python is amazing\""
   ]
  },
  {
   "cell_type": "code",
   "execution_count": 63,
   "id": "e3cb5d02",
   "metadata": {},
   "outputs": [
    {
     "data": {
      "text/plain": [
       "'Python is amazing'"
      ]
     },
     "execution_count": 63,
     "metadata": {},
     "output_type": "execute_result"
    }
   ],
   "source": [
    "text"
   ]
  },
  {
   "cell_type": "code",
   "execution_count": 76,
   "id": "7afa6aaf",
   "metadata": {},
   "outputs": [],
   "source": [
    "new_text = text.replace('amazing', 'awesome')"
   ]
  },
  {
   "cell_type": "code",
   "execution_count": 77,
   "id": "9ff337a6",
   "metadata": {},
   "outputs": [
    {
     "data": {
      "text/plain": [
       "'Python is awesome'"
      ]
     },
     "execution_count": 77,
     "metadata": {},
     "output_type": "execute_result"
    }
   ],
   "source": [
    "new_text"
   ]
  },
  {
   "cell_type": "code",
   "execution_count": 73,
   "id": "2f2c22ef",
   "metadata": {},
   "outputs": [
    {
     "data": {
      "text/plain": [
       "'Python is amazing'"
      ]
     },
     "execution_count": 73,
     "metadata": {},
     "output_type": "execute_result"
    }
   ],
   "source": [
    "text"
   ]
  },
  {
   "cell_type": "code",
   "execution_count": 85,
   "id": "5c286bec",
   "metadata": {},
   "outputs": [
    {
     "data": {
      "text/plain": [
       "'Python is awesome'"
      ]
     },
     "execution_count": 85,
     "metadata": {},
     "output_type": "execute_result"
    }
   ],
   "source": [
    "\"Python is amazing\".replace(\"amazing\", 'awesome')"
   ]
  },
  {
   "cell_type": "code",
   "execution_count": null,
   "id": "f4e0875d",
   "metadata": {},
   "outputs": [],
   "source": []
  },
  {
   "cell_type": "code",
   "execution_count": 87,
   "id": "c680f0e4",
   "metadata": {},
   "outputs": [],
   "source": []
  },
  {
   "cell_type": "code",
   "execution_count": null,
   "id": "565d4cf9",
   "metadata": {},
   "outputs": [],
   "source": []
  },
  {
   "cell_type": "code",
   "execution_count": null,
   "id": "f0f21e79",
   "metadata": {},
   "outputs": [],
   "source": []
  },
  {
   "cell_type": "markdown",
   "id": "76bd2d6b",
   "metadata": {},
   "source": [
    "## .lower(), .upper()\n",
    "<img src=\"https://media.giphy.com/media/U6S0ljt7XRXXtfy3KG/giphy.gif\" width=\"200\"/>"
   ]
  },
  {
   "cell_type": "code",
   "execution_count": 78,
   "id": "41e246a9",
   "metadata": {},
   "outputs": [],
   "source": [
    "book = 'Harry Potter and the Half Blood Prince Harry'"
   ]
  },
  {
   "cell_type": "code",
   "execution_count": 89,
   "id": "e867ada3",
   "metadata": {},
   "outputs": [
    {
     "name": "stdout",
     "output_type": "stream",
     "text": [
      "harry potter and the half blood prince harry\n"
     ]
    }
   ],
   "source": [
    "lowercase_book = book.lower()\n",
    "print(lowercase_book)"
   ]
  },
  {
   "cell_type": "code",
   "execution_count": 83,
   "id": "f843fcf7",
   "metadata": {},
   "outputs": [
    {
     "name": "stdout",
     "output_type": "stream",
     "text": [
      "HARRY POTTER AND THE HALF BLOOD PRINCE HARRY\n"
     ]
    }
   ],
   "source": [
    "uppercase_book = book.upper()\n",
    "print(uppercase_book)"
   ]
  },
  {
   "cell_type": "code",
   "execution_count": 84,
   "id": "9e4c2cbd",
   "metadata": {},
   "outputs": [
    {
     "data": {
      "text/plain": [
       "'Harry Potter and the Half Blood Prince Harry'"
      ]
     },
     "execution_count": 84,
     "metadata": {},
     "output_type": "execute_result"
    }
   ],
   "source": [
    "book"
   ]
  },
  {
   "cell_type": "code",
   "execution_count": null,
   "id": "e19e6382",
   "metadata": {},
   "outputs": [],
   "source": []
  },
  {
   "cell_type": "code",
   "execution_count": null,
   "id": "43375cdf",
   "metadata": {},
   "outputs": [],
   "source": []
  },
  {
   "cell_type": "markdown",
   "id": "d8fbfe97",
   "metadata": {},
   "source": [
    "## Looping over strings\n",
    "<img src=\"https://media.giphy.com/media/ieaUdBJJC19uw/giphy-downsized-large.gif\" width=\"200\"/>"
   ]
  },
  {
   "cell_type": "code",
   "execution_count": 92,
   "id": "a08f4934",
   "metadata": {},
   "outputs": [
    {
     "name": "stdout",
     "output_type": "stream",
     "text": [
      "H/a/r/r/y/ /P/o/t/t/e/r/ /a/n/d/ /t/h/e/ /H/a/l/f/ /B/l/o/o/d/ /P/r/i/n/c/e/ /H/a/r/r/y/"
     ]
    }
   ],
   "source": [
    "for char in book:\n",
    "    print(char, end='/')"
   ]
  },
  {
   "cell_type": "code",
   "execution_count": 93,
   "id": "0b4b3267",
   "metadata": {},
   "outputs": [],
   "source": [
    "book = 'Harry Potter and the Half Blood Prince Harry'"
   ]
  },
  {
   "cell_type": "code",
   "execution_count": 94,
   "id": "57beef2b",
   "metadata": {},
   "outputs": [],
   "source": [
    "del book"
   ]
  },
  {
   "cell_type": "code",
   "execution_count": 95,
   "id": "5b4cf6b5",
   "metadata": {},
   "outputs": [
    {
     "ename": "NameError",
     "evalue": "name 'book' is not defined",
     "output_type": "error",
     "traceback": [
      "\u001b[0;31m---------------------------------------------------------------------------\u001b[0m",
      "\u001b[0;31mNameError\u001b[0m                                 Traceback (most recent call last)",
      "\u001b[0;32m/var/folders/jn/1bsrct314hv5xmfm7vrcdrzc0000gn/T/ipykernel_12105/1153044440.py\u001b[0m in \u001b[0;36m<module>\u001b[0;34m\u001b[0m\n\u001b[0;32m----> 1\u001b[0;31m \u001b[0mprint\u001b[0m\u001b[0;34m(\u001b[0m\u001b[0mbook\u001b[0m\u001b[0;34m)\u001b[0m\u001b[0;34m\u001b[0m\u001b[0;34m\u001b[0m\u001b[0m\n\u001b[0m",
      "\u001b[0;31mNameError\u001b[0m: name 'book' is not defined"
     ]
    }
   ],
   "source": [
    "print(book)"
   ]
  },
  {
   "cell_type": "markdown",
   "id": "c62e0535",
   "metadata": {},
   "source": [
    "## ord function\n",
    "To get the ASCII code for any character"
   ]
  },
  {
   "cell_type": "code",
   "execution_count": 96,
   "id": "62614a09",
   "metadata": {},
   "outputs": [
    {
     "data": {
      "text/plain": [
       "97"
      ]
     },
     "execution_count": 96,
     "metadata": {},
     "output_type": "execute_result"
    }
   ],
   "source": [
    "ord('a')"
   ]
  },
  {
   "cell_type": "code",
   "execution_count": 97,
   "id": "ee13457f",
   "metadata": {},
   "outputs": [
    {
     "data": {
      "text/plain": [
       "65"
      ]
     },
     "execution_count": 97,
     "metadata": {},
     "output_type": "execute_result"
    }
   ],
   "source": [
    "ord('A')"
   ]
  },
  {
   "cell_type": "code",
   "execution_count": 98,
   "id": "82554e19",
   "metadata": {},
   "outputs": [
    {
     "ename": "TypeError",
     "evalue": "ord() expected a character, but string of length 2 found",
     "output_type": "error",
     "traceback": [
      "\u001b[0;31m---------------------------------------------------------------------------\u001b[0m",
      "\u001b[0;31mTypeError\u001b[0m                                 Traceback (most recent call last)",
      "\u001b[0;32m/var/folders/jn/1bsrct314hv5xmfm7vrcdrzc0000gn/T/ipykernel_12105/308877286.py\u001b[0m in \u001b[0;36m<module>\u001b[0;34m\u001b[0m\n\u001b[0;32m----> 1\u001b[0;31m \u001b[0mord\u001b[0m\u001b[0;34m(\u001b[0m\u001b[0;34m'ab'\u001b[0m\u001b[0;34m)\u001b[0m\u001b[0;34m\u001b[0m\u001b[0;34m\u001b[0m\u001b[0m\n\u001b[0m",
      "\u001b[0;31mTypeError\u001b[0m: ord() expected a character, but string of length 2 found"
     ]
    }
   ],
   "source": [
    "ord('ab')"
   ]
  },
  {
   "cell_type": "code",
   "execution_count": 99,
   "id": "c3f10cf6",
   "metadata": {},
   "outputs": [
    {
     "data": {
      "text/plain": [
       "'a'"
      ]
     },
     "execution_count": 99,
     "metadata": {},
     "output_type": "execute_result"
    }
   ],
   "source": [
    "chr(97)"
   ]
  },
  {
   "cell_type": "code",
   "execution_count": null,
   "id": "d503c51a",
   "metadata": {},
   "outputs": [],
   "source": []
  },
  {
   "cell_type": "code",
   "execution_count": null,
   "id": "c58757d0",
   "metadata": {},
   "outputs": [],
   "source": []
  },
  {
   "cell_type": "markdown",
   "id": "0b07a5da",
   "metadata": {},
   "source": [
    "## String splicing"
   ]
  },
  {
   "cell_type": "code",
   "execution_count": 100,
   "id": "7956251f",
   "metadata": {},
   "outputs": [],
   "source": [
    "s = \"Hello World\""
   ]
  },
  {
   "cell_type": "code",
   "execution_count": 101,
   "id": "91fd9255",
   "metadata": {},
   "outputs": [
    {
     "data": {
      "text/plain": [
       "'Hello Worl'"
      ]
     },
     "execution_count": 101,
     "metadata": {},
     "output_type": "execute_result"
    }
   ],
   "source": [
    "s[:-1]"
   ]
  },
  {
   "cell_type": "code",
   "execution_count": 109,
   "id": "a978885b",
   "metadata": {},
   "outputs": [],
   "source": [
    "s = \"this book\"\n",
    "rever = s[::-1]"
   ]
  },
  {
   "cell_type": "code",
   "execution_count": 110,
   "id": "57450571",
   "metadata": {},
   "outputs": [
    {
     "data": {
      "text/plain": [
       "'koob siht'"
      ]
     },
     "execution_count": 110,
     "metadata": {},
     "output_type": "execute_result"
    }
   ],
   "source": [
    "rever"
   ]
  },
  {
   "cell_type": "code",
   "execution_count": null,
   "id": "5b176fee",
   "metadata": {},
   "outputs": [],
   "source": []
  },
  {
   "cell_type": "code",
   "execution_count": null,
   "id": "7e307bec",
   "metadata": {},
   "outputs": [],
   "source": []
  },
  {
   "cell_type": "markdown",
   "id": "f7146e87",
   "metadata": {},
   "source": [
    "## Pattern Problem\n",
    "A\\\n",
    "BB\\\n",
    "CCC\\\n",
    "DDDD\n"
   ]
  },
  {
   "cell_type": "code",
   "execution_count": 102,
   "id": "f3eb11b6",
   "metadata": {},
   "outputs": [
    {
     "name": "stdout",
     "output_type": "stream",
     "text": [
      "A\n",
      "B B\n",
      "C C C\n",
      "D D D D\n"
     ]
    }
   ],
   "source": [
    "n = 4\n",
    "for i in range(1, n+1):\n",
    "    c = chr(i + ord('A') - 1)\n",
    "    s = (c + \" \") * i\n",
    "    print(s[:-1])"
   ]
  },
  {
   "cell_type": "code",
   "execution_count": null,
   "id": "1812bb7a",
   "metadata": {},
   "outputs": [],
   "source": []
  },
  {
   "cell_type": "code",
   "execution_count": null,
   "id": "65be2b19",
   "metadata": {},
   "outputs": [],
   "source": []
  },
  {
   "cell_type": "code",
   "execution_count": null,
   "id": "991ce4d2",
   "metadata": {},
   "outputs": [],
   "source": []
  },
  {
   "cell_type": "markdown",
   "id": "bb922503",
   "metadata": {},
   "source": [
    "## strip function"
   ]
  },
  {
   "cell_type": "code",
   "execution_count": 103,
   "id": "d06fbce0",
   "metadata": {},
   "outputs": [],
   "source": [
    "s = \"        Hello World         \""
   ]
  },
  {
   "cell_type": "code",
   "execution_count": 104,
   "id": "67cff0f3",
   "metadata": {},
   "outputs": [
    {
     "data": {
      "text/plain": [
       "'        Hello World         '"
      ]
     },
     "execution_count": 104,
     "metadata": {},
     "output_type": "execute_result"
    }
   ],
   "source": [
    "s"
   ]
  },
  {
   "cell_type": "code",
   "execution_count": 106,
   "id": "033d3ba9",
   "metadata": {},
   "outputs": [
    {
     "data": {
      "text/plain": [
       "'Hello World         '"
      ]
     },
     "execution_count": 106,
     "metadata": {},
     "output_type": "execute_result"
    }
   ],
   "source": [
    "s.lstrip()"
   ]
  },
  {
   "cell_type": "code",
   "execution_count": 107,
   "id": "3884f91d",
   "metadata": {},
   "outputs": [
    {
     "data": {
      "text/plain": [
       "'        Hello World'"
      ]
     },
     "execution_count": 107,
     "metadata": {},
     "output_type": "execute_result"
    }
   ],
   "source": [
    "s.rstrip()"
   ]
  },
  {
   "cell_type": "code",
   "execution_count": 108,
   "id": "9fa42d90",
   "metadata": {},
   "outputs": [
    {
     "data": {
      "text/plain": [
       "'Hello World'"
      ]
     },
     "execution_count": 108,
     "metadata": {},
     "output_type": "execute_result"
    }
   ],
   "source": [
    "s.strip()"
   ]
  },
  {
   "cell_type": "code",
   "execution_count": null,
   "id": "443833fc",
   "metadata": {},
   "outputs": [],
   "source": []
  },
  {
   "cell_type": "code",
   "execution_count": null,
   "id": "84b04600",
   "metadata": {},
   "outputs": [],
   "source": []
  },
  {
   "cell_type": "code",
   "execution_count": null,
   "id": "64e14012",
   "metadata": {},
   "outputs": [],
   "source": []
  },
  {
   "cell_type": "markdown",
   "id": "70701444",
   "metadata": {},
   "source": [
    "## Reverse the order of words"
   ]
  },
  {
   "cell_type": "code",
   "execution_count": 120,
   "id": "087cea87",
   "metadata": {},
   "outputs": [],
   "source": [
    "book = \"Harry Potter and the Half Blood Prince\""
   ]
  },
  {
   "cell_type": "code",
   "execution_count": 121,
   "id": "f325d5cc",
   "metadata": {},
   "outputs": [],
   "source": [
    "l = book.split()"
   ]
  },
  {
   "cell_type": "code",
   "execution_count": 122,
   "id": "234dab95",
   "metadata": {},
   "outputs": [
    {
     "data": {
      "text/plain": [
       "list"
      ]
     },
     "execution_count": 122,
     "metadata": {},
     "output_type": "execute_result"
    }
   ],
   "source": [
    "type(l)"
   ]
  },
  {
   "cell_type": "code",
   "execution_count": 123,
   "id": "a2717d57",
   "metadata": {},
   "outputs": [
    {
     "data": {
      "text/plain": [
       "['Harry', 'Potter', 'and', 'the', 'Half', 'Blood', 'Prince']"
      ]
     },
     "execution_count": 123,
     "metadata": {},
     "output_type": "execute_result"
    }
   ],
   "source": [
    "l"
   ]
  },
  {
   "cell_type": "code",
   "execution_count": 124,
   "id": "5f798024",
   "metadata": {},
   "outputs": [],
   "source": [
    "l = l[::-1]"
   ]
  },
  {
   "cell_type": "code",
   "execution_count": 126,
   "id": "87523204",
   "metadata": {},
   "outputs": [
    {
     "data": {
      "text/plain": [
       "['Prince', 'Blood', 'Half', 'the', 'and', 'Potter', 'Harry']"
      ]
     },
     "execution_count": 126,
     "metadata": {},
     "output_type": "execute_result"
    }
   ],
   "source": [
    "l"
   ]
  },
  {
   "cell_type": "code",
   "execution_count": 135,
   "id": "71459da8",
   "metadata": {},
   "outputs": [],
   "source": [
    "s = \" \".join(l)"
   ]
  },
  {
   "cell_type": "code",
   "execution_count": 136,
   "id": "85f71259",
   "metadata": {},
   "outputs": [
    {
     "data": {
      "text/plain": [
       "'Prince Blood Half the and Potter Harry'"
      ]
     },
     "execution_count": 136,
     "metadata": {},
     "output_type": "execute_result"
    }
   ],
   "source": [
    "s"
   ]
  },
  {
   "cell_type": "code",
   "execution_count": 138,
   "id": "16c838b8",
   "metadata": {},
   "outputs": [],
   "source": [
    "s = \"this book\"\n",
    "s = s[::-1]"
   ]
  },
  {
   "cell_type": "code",
   "execution_count": 139,
   "id": "b01ea25c",
   "metadata": {},
   "outputs": [
    {
     "data": {
      "text/plain": [
       "'koob siht'"
      ]
     },
     "execution_count": 139,
     "metadata": {},
     "output_type": "execute_result"
    }
   ],
   "source": [
    "s"
   ]
  },
  {
   "cell_type": "code",
   "execution_count": 140,
   "id": "15b2ee22",
   "metadata": {},
   "outputs": [],
   "source": [
    "s = \" \".join(s.split()[::-1])"
   ]
  },
  {
   "cell_type": "code",
   "execution_count": 141,
   "id": "9648b209",
   "metadata": {},
   "outputs": [
    {
     "data": {
      "text/plain": [
       "'siht koob'"
      ]
     },
     "execution_count": 141,
     "metadata": {},
     "output_type": "execute_result"
    }
   ],
   "source": [
    "s"
   ]
  },
  {
   "cell_type": "markdown",
   "id": "dc1c7c53",
   "metadata": {},
   "source": [
    "## Format strings"
   ]
  },
  {
   "cell_type": "code",
   "execution_count": 142,
   "id": "1966c06b",
   "metadata": {},
   "outputs": [],
   "source": [
    "apple_count = 4\n",
    "orange_count = 10\n",
    "guava_count = 5\n",
    "\n",
    "\n",
    "# generate a string that says, \"I have 4 apples, 10 oranges and 5 guavas\""
   ]
  },
  {
   "cell_type": "code",
   "execution_count": 145,
   "id": "ea1ccd99",
   "metadata": {},
   "outputs": [],
   "source": [
    "s = \"I have \" + str(apple_count) + \" apples, \" + str(orange_count) + \" oranges and \" + str(guava_count) + \" guavas.\""
   ]
  },
  {
   "cell_type": "code",
   "execution_count": 146,
   "id": "e1017629",
   "metadata": {},
   "outputs": [
    {
     "data": {
      "text/plain": [
       "'I have 4 apples, 10 oranges and 5 guavas.'"
      ]
     },
     "execution_count": 146,
     "metadata": {},
     "output_type": "execute_result"
    }
   ],
   "source": [
    "s"
   ]
  },
  {
   "cell_type": "code",
   "execution_count": 147,
   "id": "2812c9b7",
   "metadata": {},
   "outputs": [],
   "source": [
    "s = f\"I have {apple_count} apples, {orange_count} oranges and {guava_count} guavas\""
   ]
  },
  {
   "cell_type": "code",
   "execution_count": 148,
   "id": "54505a4e",
   "metadata": {},
   "outputs": [
    {
     "data": {
      "text/plain": [
       "'I have 4 apples, 10 oranges and 5 guavas'"
      ]
     },
     "execution_count": 148,
     "metadata": {},
     "output_type": "execute_result"
    }
   ],
   "source": [
    "s"
   ]
  },
  {
   "cell_type": "code",
   "execution_count": null,
   "id": "4cdfd117",
   "metadata": {},
   "outputs": [],
   "source": []
  },
  {
   "cell_type": "code",
   "execution_count": null,
   "id": "bbcb0469",
   "metadata": {},
   "outputs": [],
   "source": []
  },
  {
   "cell_type": "code",
   "execution_count": null,
   "id": "a71f408b",
   "metadata": {},
   "outputs": [],
   "source": []
  },
  {
   "cell_type": "code",
   "execution_count": 153,
   "id": "101e9a06",
   "metadata": {},
   "outputs": [],
   "source": [
    "s = \"I have {} apples, {} oranges and {} guavas\".format(apple_count, orange_count, guava_count)"
   ]
  },
  {
   "cell_type": "code",
   "execution_count": 154,
   "id": "9a0f6ffc",
   "metadata": {},
   "outputs": [
    {
     "data": {
      "text/plain": [
       "'I have 4 apples, 10 oranges and 5 guavas'"
      ]
     },
     "execution_count": 154,
     "metadata": {},
     "output_type": "execute_result"
    }
   ],
   "source": [
    "s"
   ]
  },
  {
   "cell_type": "markdown",
   "id": "7139907f",
   "metadata": {},
   "source": [
    "## Methods in Strings - https://www.scaler.com/topics/python/string-methods-python/"
   ]
  },
  {
   "cell_type": "code",
   "execution_count": null,
   "id": "378bb3f8",
   "metadata": {},
   "outputs": [],
   "source": []
  },
  {
   "cell_type": "code",
   "execution_count": null,
   "id": "9680e59c",
   "metadata": {},
   "outputs": [],
   "source": []
  },
  {
   "cell_type": "code",
   "execution_count": null,
   "id": "ee0b7445",
   "metadata": {},
   "outputs": [],
   "source": []
  },
  {
   "cell_type": "markdown",
   "id": "bd9b3b5e",
   "metadata": {},
   "source": [
    "# Docstrings"
   ]
  },
  {
   "cell_type": "code",
   "execution_count": 156,
   "id": "27fb984e",
   "metadata": {},
   "outputs": [],
   "source": [
    "range?"
   ]
  },
  {
   "cell_type": "code",
   "execution_count": 162,
   "id": "0cdb3f3b",
   "metadata": {},
   "outputs": [],
   "source": [
    "def square(x):\n",
    "    '''\n",
    "    This function returns the square of a number\n",
    "    '''\n",
    "    return x**2"
   ]
  },
  {
   "cell_type": "code",
   "execution_count": 163,
   "id": "16cf6784",
   "metadata": {},
   "outputs": [],
   "source": [
    "square?"
   ]
  },
  {
   "cell_type": "code",
   "execution_count": 160,
   "id": "4320310a",
   "metadata": {},
   "outputs": [
    {
     "data": {
      "text/plain": [
       "25"
      ]
     },
     "execution_count": 160,
     "metadata": {},
     "output_type": "execute_result"
    }
   ],
   "source": [
    "square(5)"
   ]
  },
  {
   "cell_type": "code",
   "execution_count": null,
   "id": "b8f73b33",
   "metadata": {},
   "outputs": [],
   "source": []
  }
 ],
 "metadata": {
  "kernelspec": {
   "display_name": "Python 3 (ipykernel)",
   "language": "python",
   "name": "python3"
  },
  "language_info": {
   "codemirror_mode": {
    "name": "ipython",
    "version": 3
   },
   "file_extension": ".py",
   "mimetype": "text/x-python",
   "name": "python",
   "nbconvert_exporter": "python",
   "pygments_lexer": "ipython3",
   "version": "3.9.7"
  }
 },
 "nbformat": 4,
 "nbformat_minor": 5
}
